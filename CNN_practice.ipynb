{
  "nbformat": 4,
  "nbformat_minor": 0,
  "metadata": {
    "colab": {
      "provenance": [],
      "authorship_tag": "ABX9TyO7X4ttccvyah05qb7rSr/I",
      "include_colab_link": true
    },
    "kernelspec": {
      "name": "python3",
      "display_name": "Python 3"
    },
    "language_info": {
      "name": "python"
    }
  },
  "cells": [
    {
      "cell_type": "markdown",
      "metadata": {
        "id": "view-in-github",
        "colab_type": "text"
      },
      "source": [
        "<a href=\"https://colab.research.google.com/github/Nicsdiary/test-repo/blob/main/CNN_practice.ipynb\" target=\"_parent\"><img src=\"https://colab.research.google.com/assets/colab-badge.svg\" alt=\"Open In Colab\"/></a>"
      ]
    },
    {
      "cell_type": "code",
      "execution_count": 19,
      "metadata": {
        "colab": {
          "base_uri": "https://localhost:8080/"
        },
        "id": "XI3nI0y2VVWd",
        "outputId": "ca07e072-488a-41b2-e43c-b1bfff89638d"
      },
      "outputs": [
        {
          "output_type": "stream",
          "name": "stdout",
          "text": [
            "Model: \"sequential_6\"\n",
            "_________________________________________________________________\n",
            " Layer (type)                Output Shape              Param #   \n",
            "=================================================================\n",
            " conv2d_18 (Conv2D)          (None, 26, 26, 32)        320       \n",
            "                                                                 \n",
            " max_pooling2d_18 (MaxPoolin  (None, 13, 13, 32)       0         \n",
            " g2D)                                                            \n",
            "                                                                 \n",
            " conv2d_19 (Conv2D)          (None, 11, 11, 32)        9248      \n",
            "                                                                 \n",
            " max_pooling2d_19 (MaxPoolin  (None, 5, 5, 32)         0         \n",
            " g2D)                                                            \n",
            "                                                                 \n",
            " conv2d_20 (Conv2D)          (None, 3, 3, 32)          9248      \n",
            "                                                                 \n",
            " max_pooling2d_20 (MaxPoolin  (None, 1, 1, 32)         0         \n",
            " g2D)                                                            \n",
            "                                                                 \n",
            "=================================================================\n",
            "Total params: 18,816\n",
            "Trainable params: 18,816\n",
            "Non-trainable params: 0\n",
            "_________________________________________________________________\n"
          ]
        }
      ],
      "source": [
        "# CNN 합성곱 신경망\n",
        "\n",
        "from keras import models\n",
        "from keras import layers\n",
        "\n",
        "model = models.Sequential()\n",
        "model.add(layers.Conv2D(32,(3,3), activation='relu', input_shape=(28,28,1)))\n",
        "model.add(layers.MaxPooling2D((2,2)))\n",
        "model.add(layers.Conv2D(32,(3,3), activation='relu', input_shape=(28,28,1)))\n",
        "model.add(layers.MaxPooling2D((2,2)))\n",
        "model.add(layers.Conv2D(32,(3,3), activation='relu', input_shape=(28,28,1)))\n",
        "model.add(layers.MaxPooling2D((2,2)))\n",
        "\n",
        "model.summary()\n",
        "\n",
        "# Sequential 모델을 사용하여 각 레이어를 차례로 추가하고, Conv2D 레이어를 사용하여 2차원 이미지 데이터에 대한 합성곱을 구현\n",
        "# 각 Conv2D 레이어는 필터의 개수와 필터의 크기를 인자로 받으며, activation 인자를 통해 활성화 함수를 설정\n",
        "# MaxPooling2D 레이어는 각 Conv2D 레이어 이후에 추가되며, 특징맵(feature map)을 다운샘플링하는 역할\n",
        "# 이를 통해 이미지의 크기가 줄어들어 계산 효율성이 증가하고, overfitting을 방지\n",
        "# 모델의 구조를 확인하기 위해 model.summary() 함수를 호출하여 모델의 레이어 구성과 파라미터 수 등의 정보를 출력"
      ]
    },
    {
      "cell_type": "code",
      "source": [
        "model.add(layers.Flatten())\n",
        "model.add(layers.Dense(64,activation='relu'))\n",
        "model.add(layers.Dense(10, activation='softmax'))\n",
        "\n",
        "model.summary()\n",
        "\n",
        "# model.add(layers.Flatten())은 입력을 1차원으로 평탄화합니다. 이전 층에서 출력된 3차원의 텐서를 1차원으로 바꾸어 줍니다.\n",
        "# model.add(layers.Dense(64,activation='relu'))은 64개의 뉴런을 가진 fully connected layer를 추가하며, relu 활성화 함수를 사용\n",
        "# model.add(layers.Dense(10, activation='softmax'))은 10개의 뉴런을 가진 fully connected layer를 추가하며, softmax 활성화 함수를 사용합니다. 이 층은 모델의 출력층\n",
        "# model.summary()는 모델의 구조를 요약하여 출력합니다. 총 3개의 층으로 구성되어 있으며, 각 층의 구조와 총 파라미터 수 등을 보여줍니다.\n",
        "\n",
        "\n",
        "\n",
        "\n"
      ],
      "metadata": {
        "colab": {
          "base_uri": "https://localhost:8080/"
        },
        "id": "_evlBA5NX5uM",
        "outputId": "60d7da02-1302-4cbb-a2e3-8d0cf27cfa68"
      },
      "execution_count": 20,
      "outputs": [
        {
          "output_type": "stream",
          "name": "stdout",
          "text": [
            "Model: \"sequential_6\"\n",
            "_________________________________________________________________\n",
            " Layer (type)                Output Shape              Param #   \n",
            "=================================================================\n",
            " conv2d_18 (Conv2D)          (None, 26, 26, 32)        320       \n",
            "                                                                 \n",
            " max_pooling2d_18 (MaxPoolin  (None, 13, 13, 32)       0         \n",
            " g2D)                                                            \n",
            "                                                                 \n",
            " conv2d_19 (Conv2D)          (None, 11, 11, 32)        9248      \n",
            "                                                                 \n",
            " max_pooling2d_19 (MaxPoolin  (None, 5, 5, 32)         0         \n",
            " g2D)                                                            \n",
            "                                                                 \n",
            " conv2d_20 (Conv2D)          (None, 3, 3, 32)          9248      \n",
            "                                                                 \n",
            " max_pooling2d_20 (MaxPoolin  (None, 1, 1, 32)         0         \n",
            " g2D)                                                            \n",
            "                                                                 \n",
            " flatten_3 (Flatten)         (None, 32)                0         \n",
            "                                                                 \n",
            " dense_6 (Dense)             (None, 64)                2112      \n",
            "                                                                 \n",
            " dense_7 (Dense)             (None, 10)                650       \n",
            "                                                                 \n",
            "=================================================================\n",
            "Total params: 21,578\n",
            "Trainable params: 21,578\n",
            "Non-trainable params: 0\n",
            "_________________________________________________________________\n"
          ]
        }
      ]
    },
    {
      "cell_type": "code",
      "source": [
        "from keras.datasets import mnist\n",
        "from tensorflow.keras.utils import to_categorical\n",
        "\n",
        "(train_images, train_labels),(test_images, test_labels) = mnist.load_data()\n",
        "\n",
        "# scaling\n",
        "train_data = train_images.reshape((60000,28,28,1))\n",
        "train_data = train_data.astype('float32') / 255\n",
        "\n",
        "test_data = test_images.reshape((10000,28,28,1))\n",
        "test_data = test_data.astype('float32') / 255\n",
        "\n",
        "train_target = to_categorical(train_labels)\n",
        "test_target = to_categorical(test_labels)\n",
        "\n",
        "# from keras.datasets import mnist: Keras에서 제공하는 MNIST 데이터셋을 불러오기 위한 라이브러리입니다.\n",
        "# from tensorflow.keras.utils import to_categorical: 정수형 레이블을 one-hot 인코딩 방식으로 변환해주기 위한 라이브러리입니다.\n",
        "# (train_images, train_labels), (test_images, test_labels) = mnist.load_data(): MNIST 데이터셋을 훈련 데이터와 검증 데이터로 나누어 불러옵니다.\n",
        "# train_images = train_images.reshape((60000, 28, 28, 1)): Convolutional Neural Network(CNN) 모델에 입력하기 위해 3차원인 이미지를 4차원으로 바꿔줍니다. MNIST 이미지는 흑백 이미지이므로 마지막 차원이 1입니다. (데이터 수, 높이, 너비, 채널 수) 형태의 텐서로 변환됩니다.\n",
        "# train_images = train_images.astype('float32') / 255: 이미지의 픽셀 값 범위를 [0, 255]에서 [0, 1]로 스케일링합니다. 이는 모델의 성능 향상을 위해 필요한 전처리 과정입니다."
      ],
      "metadata": {
        "id": "-WnTmwUgYvuS"
      },
      "execution_count": 22,
      "outputs": []
    },
    {
      "cell_type": "code",
      "source": [
        "model.compile(optimizer='rmsprop',\n",
        "              loss='categorical_crossentropy',\n",
        "              metrics=['accuracy'])\n",
        "model.fit(train_data, train_target, epochs=5, batch_size=64)\n",
        "\n",
        "# Keras 모델을 컴파일하고 학습하는 코드입니다. compile 메소드는 모델을 컴파일합니다. 여기서는 rmsprop 옵티마이저를 사용하고, categorical_crossentropy 손실 함수를 사용하여 모델을 컴파일합니다. metrics 인자에서 accuracy를 지정하여 모델을 평가할 때 정확도를 계산\n",
        "# fit 메소드는 모델을 학습합니다. 이 코드에서는 train_data 및 train_target을 입력으로 사용하고, epochs 및 batch_size 매개 변수를 지정하여 모델을 5회 반복하고, 한 번의 학습에서 64개의 샘플을 사용"
      ],
      "metadata": {
        "colab": {
          "base_uri": "https://localhost:8080/"
        },
        "id": "MqwYai8thvtO",
        "outputId": "d245b3a5-742f-48db-bf93-0af2d2402728"
      },
      "execution_count": 24,
      "outputs": [
        {
          "output_type": "stream",
          "name": "stdout",
          "text": [
            "Epoch 1/5\n",
            "938/938 [==============================] - 51s 53ms/step - loss: 0.0493 - accuracy: 0.9850\n",
            "Epoch 2/5\n",
            "938/938 [==============================] - 47s 50ms/step - loss: 0.0428 - accuracy: 0.9867\n",
            "Epoch 3/5\n",
            "938/938 [==============================] - 47s 50ms/step - loss: 0.0368 - accuracy: 0.9890\n",
            "Epoch 4/5\n",
            "938/938 [==============================] - 45s 48ms/step - loss: 0.0333 - accuracy: 0.9896\n",
            "Epoch 5/5\n",
            "938/938 [==============================] - 47s 50ms/step - loss: 0.0290 - accuracy: 0.9911\n"
          ]
        },
        {
          "output_type": "execute_result",
          "data": {
            "text/plain": [
              "<keras.callbacks.History at 0x7f4c7c882c20>"
            ]
          },
          "metadata": {},
          "execution_count": 24
        }
      ]
    },
    {
      "cell_type": "code",
      "source": [
        "test_loss, test_acc = model.evaluate(test_data, test_target)\n",
        "test_acc"
      ],
      "metadata": {
        "colab": {
          "base_uri": "https://localhost:8080/"
        },
        "id": "yRPUuleRk3pq",
        "outputId": "a0d000c5-606f-40b5-ce7e-97e3e3325dac"
      },
      "execution_count": 25,
      "outputs": [
        {
          "output_type": "stream",
          "name": "stdout",
          "text": [
            "313/313 [==============================] - 3s 8ms/step - loss: 0.0511 - accuracy: 0.9873\n"
          ]
        },
        {
          "output_type": "execute_result",
          "data": {
            "text/plain": [
              "0.9872999787330627"
            ]
          },
          "metadata": {},
          "execution_count": 25
        }
      ]
    }
  ]
}